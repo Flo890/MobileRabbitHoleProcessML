{
 "cells": [
  {
   "cell_type": "code",
   "execution_count": 2,
   "metadata": {
    "pycharm": {
     "name": "#%%\n"
    }
   },
   "outputs": [],
   "source": [
    "import pandas as pd\n",
    "import glob\n",
    "\n",
    "## all users:\n",
    "files = glob.glob(\"C:\\\\projects\\\\rabbithole\\\\RabbitHoleProcess\\\\data\\\\dataframes\\\\sessions_with_features\\\\*.pickle\")\n",
    "sessions = []\n",
    "for f in files:\n",
    "    a_sessions = pd.read_pickle(f)\n",
    "    sessions.append(a_sessions)\n",
    "\n",
    "## selected users:\n",
    "sessions_AN23GE = pd.read_pickle(\"C:\\\\projects\\\\rabbithole\\\\RabbitHoleProcess\\\\data\\\\dataframes\\\\sessions_with_features\\\\AN23GE.pickle\")\n",
    "sessions_IM12WE = pd.read_pickle(\"C:\\\\projects\\\\rabbithole\\\\RabbitHoleProcess\\\\data\\\\dataframes\\\\sessions_with_features\\\\IM12WE.pickle\")\n",
    "sessions_EL28LO = pd.read_pickle(\"C:\\\\projects\\\\rabbithole\\\\RabbitHoleProcess\\\\data\\\\dataframes\\\\sessions_with_features\\\\EL28LO.pickle\")\n",
    "sessions_KE18ZA = pd.read_pickle(\"C:\\\\projects\\\\rabbithole\\\\RabbitHoleProcess\\\\data\\\\dataframes\\\\sessions_with_features\\\\KE18ZA.pickle\")\n",
    "sessions_B121FR = pd.read_pickle(\"C:\\\\projects\\\\rabbithole\\\\RabbitHoleProcess\\\\data\\\\dataframes\\\\sessions_with_features\\\\BI21FR.pickle\")\n",
    "#sessions = [sessions_AN23GE[0:100]]"
   ]
  },
  {
   "cell_type": "code",
   "execution_count": 3,
   "metadata": {
    "pycharm": {
     "name": "#%%\n"
    }
   },
   "outputs": [
    {
     "name": "stderr",
     "output_type": "stream",
     "text": [
      "C:\\Users\\florianb\\AppData\\Local\\Temp\\ipykernel_13688\\1560401265.py:7: PerformanceWarning: DataFrame is highly fragmented.  This is usually the result of calling `frame.insert` many times, which has poor performance.  Consider joining all columns at once using pd.concat(axis=1) instead. To get a de-fragmented frame, use `newframe = frame.copy()`\n",
      "  df['marker_c_intention'] = df['f_esm_more_than_intention'].apply(lambda x : \"grey\" if len(x) == 0 else (\"green\" if x == \"No\" else (\"red\" if x == \"Yes\" else None)))\n",
      "C:\\Users\\florianb\\AppData\\Local\\Temp\\ipykernel_13688\\1560401265.py:8: PerformanceWarning: DataFrame is highly fragmented.  This is usually the result of calling `frame.insert` many times, which has poor performance.  Consider joining all columns at once using pd.concat(axis=1) instead. To get a de-fragmented frame, use `newframe = frame.copy()`\n",
      "  df['marker_c_regret'] = df['f_esm_regret'].apply(lambda x : \"grey\" if len(x) == 0 else (\"green\" if x in (\"1.0\",\"2.0\",\"3.0\") else (\"red\" if x in (\"4.0\",\"5.0\",\"6.0\",\"7.0\") else \"grey\")))\n"
     ]
    },
    {
     "data": {
      "image/png": "[encoded data removed]",
      "text/plain": [
       "<Figure size 1080x108 with 1 Axes>"
      ]
     },
     "metadata": {
      "needs_background": "light"
     },
     "output_type": "display_data"
    }
   ],
   "source": [
    "# scatter plot of user sessions\n",
    "import matplotlib.pyplot as plt\n",
    "import numpy as np\n",
    "\n",
    "df = pd.concat([sessions_AN23GE,sessions_IM12WE,sessions_EL28LO])#,sessions_KE18ZA,sessions_B121FR\n",
    "#df = pd.concat(sessions)\n",
    "df['marker_c_intention'] = df['f_esm_more_than_intention'].apply(lambda x : \"grey\" if len(x) == 0 else (\"green\" if x == \"No\" else (\"red\" if x == \"Yes\" else None)))\n",
    "df['marker_c_regret'] = df['f_esm_regret'].apply(lambda x : \"grey\" if len(x) == 0 else (\"green\" if x in (\"1.0\",\"2.0\",\"3.0\") else (\"red\" if x in (\"4.0\",\"5.0\",\"6.0\",\"7.0\") else \"grey\")))\n",
    "#df2 = df.filter(studyID in [\"ha07fl\",\"IM12WE\",\"TH28RU\",\"AN23GE\"])\n",
    "#df\n",
    "df = df[(df['timestamp_1'] > \"2022-04-05\") &  (df['timestamp_1'] < \"2022-04-08\")]\n",
    "fig,ax = plt.subplots(1,figsize=(15,1.5))\n",
    "ax.scatter(x=df['timestamp_1'],y=df['studyID'], c=df['marker_c_intention'],marker=\"s\")\n",
    "fig.savefig('scatter.pdf')"
   ]
  },
  {
   "cell_type": "code",
   "execution_count": 3,
   "metadata": {
    "pycharm": {
     "name": "#%%\n"
    }
   },
   "outputs": [
    {
     "ename": "NameError",
     "evalue": "name 'sessions_AY1221' is not defined",
     "output_type": "error",
     "traceback": [
      "\u001B[1;31m---------------------------------------------------------------------------\u001B[0m",
      "\u001B[1;31mNameError\u001B[0m                                 Traceback (most recent call last)",
      "Input \u001B[1;32mIn [3]\u001B[0m, in \u001B[0;36m<cell line: 1>\u001B[1;34m()\u001B[0m\n\u001B[1;32m----> 1\u001B[0m \u001B[43msessions_AY1221\u001B[49m\n",
      "\u001B[1;31mNameError\u001B[0m: name 'sessions_AY1221' is not defined"
     ]
    }
   ],
   "source": [
    "sessions_AY1221"
   ]
  }
 ],
 "metadata": {
  "kernelspec": {
   "display_name": "Python 3 (ipykernel)",
   "language": "python",
   "name": "python3"
  },
  "language_info": {
   "codemirror_mode": {
    "name": "ipython",
    "version": 3
   },
   "file_extension": ".py",
   "mimetype": "text/x-python",
   "name": "python",
   "nbconvert_exporter": "python",
   "pygments_lexer": "ipython3",
   "version": "3.9.12"
  }
 },
 "nbformat": 4,
 "nbformat_minor": 1
}